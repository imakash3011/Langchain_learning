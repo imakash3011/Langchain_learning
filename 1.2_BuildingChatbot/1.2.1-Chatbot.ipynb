{
 "cells": [
  {
   "cell_type": "code",
   "execution_count": 1,
   "metadata": {},
   "outputs": [],
   "source": [
    "## Building A Chatbot"
   ]
  },
  {
   "cell_type": "code",
   "execution_count": 2,
   "metadata": {},
   "outputs": [
    {
     "data": {
      "text/plain": [
       "True"
      ]
     },
     "execution_count": 2,
     "metadata": {},
     "output_type": "execute_result"
    }
   ],
   "source": [
    "import os \n",
    "from dotenv import load_dotenv\n",
    "load_dotenv() ## loading all the environment variable"
   ]
  },
  {
   "cell_type": "code",
   "execution_count": 4,
   "metadata": {},
   "outputs": [
    {
     "data": {
      "text/plain": [
       "'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'"
      ]
     },
     "execution_count": 4,
     "metadata": {},
     "output_type": "execute_result"
    }
   ],
   "source": [
    "groq_api_key = os.getenv(\"GROQ_API_KEY\")"
   ]
  },
  {
   "cell_type": "code",
   "execution_count": 5,
   "metadata": {},
   "outputs": [
    {
     "data": {
      "text/plain": [
       "ChatGroq(client=<groq.resources.chat.completions.Completions object at 0x000001CBBD6023E0>, async_client=<groq.resources.chat.completions.AsyncCompletions object at 0x000001CBBD5DBE50>, model_name='Gemma2-9b-It', groq_api_key=SecretStr('**********'))"
      ]
     },
     "execution_count": 5,
     "metadata": {},
     "output_type": "execute_result"
    }
   ],
   "source": [
    "from langchain_groq import ChatGroq\n",
    "model = ChatGroq(model=\"Gemma2-9b-It\", groq_api_key=groq_api_key)\n",
    "model"
   ]
  },
  {
   "cell_type": "code",
   "execution_count": 7,
   "metadata": {},
   "outputs": [
    {
     "data": {
      "text/plain": [
       "AIMessage(content=\"Hi Akash, it's nice to meet you! \\n\\nWhat kind of data science work do you do?  Are you working on any interesting projects right now? \\n\\nI'm always eager to learn more about how people are using data science to solve problems.\\n\", response_metadata={'token_usage': {'completion_tokens': 59, 'prompt_tokens': 23, 'total_tokens': 82, 'completion_time': 0.107272727, 'prompt_time': 0.00013453, 'queue_time': 0.01459102, 'total_time': 0.107407257}, 'model_name': 'Gemma2-9b-It', 'system_fingerprint': 'fp_10c08bf97d', 'finish_reason': 'stop', 'logprobs': None}, id='run-beb639f9-1abe-4452-b049-1b68dd4430f9-0', usage_metadata={'input_tokens': 23, 'output_tokens': 59, 'total_tokens': 82})"
      ]
     },
     "execution_count": 7,
     "metadata": {},
     "output_type": "execute_result"
    }
   ],
   "source": [
    "from langchain_core.messages import HumanMessage, AIMessage\n",
    "model.invoke([HumanMessage(content=\"Hi, My name is Akash and I'm a data scientist\")])"
   ]
  },
  {
   "cell_type": "code",
   "execution_count": 8,
   "metadata": {},
   "outputs": [
    {
     "data": {
      "text/plain": [
       "AIMessage(content=\"You're Akash, and you are a data scientist! \\n\\nIs there anything else you'd like to tell me about yourself or your work?  I'm ready to listen! 😊  \\n\", response_metadata={'token_usage': {'completion_tokens': 45, 'prompt_tokens': 100, 'total_tokens': 145, 'completion_time': 0.081818182, 'prompt_time': 0.007005943, 'queue_time': 0.6180782539999999, 'total_time': 0.088824125}, 'model_name': 'Gemma2-9b-It', 'system_fingerprint': 'fp_10c08bf97d', 'finish_reason': 'stop', 'logprobs': None}, id='run-fee7f667-37f4-4c68-ae64-bf366b3b6e48-0', usage_metadata={'input_tokens': 100, 'output_tokens': 45, 'total_tokens': 145})"
      ]
     },
     "execution_count": 8,
     "metadata": {},
     "output_type": "execute_result"
    }
   ],
   "source": [
    "## Now the model can remember the previous chat as well\n",
    "\n",
    "model.invoke(\n",
    "    [\n",
    "        HumanMessage(content=\"Hi, My name is Akash and I'm a data scientist\"),\n",
    "        AIMessage(content=\"Hi Akash, it's nice to meet you! \\n\\nWhat kind of data science work do you do?  Are you working on any interesting projects right now? \\n\\nI'm always eager to learn more about how people are using data science to solve problems.\\n\", response_metadata={'token_usage': {'completion_tokens': 59, 'prompt_tokens': 23, 'total_tokens': 82, 'completion_time': 0.107272727, 'prompt_time': 0.00013453, 'queue_time': 0.01459102, 'total_time': 0.107407257}, 'model_name': 'Gemma2-9b-It', 'system_fingerprint': 'fp_10c08bf97d', 'finish_reason': 'stop', 'logprobs': None}, id='run-beb639f9-1abe-4452-b049-1b68dd4430f9-0', usage_metadata={'input_tokens': 23, 'output_tokens': 59, 'total_tokens': 82})\n",
    "        , HumanMessage(content=\"What is my name and what do I do?\")\n",
    "    ]\n",
    ")"
   ]
  },
  {
   "cell_type": "code",
   "execution_count": null,
   "metadata": {},
   "outputs": [],
   "source": [
    "## Message History\n",
    "\n",
    "# We can use a Message History Class to wrap our model and make it stateful. This will keep track\n",
    "# of inputs and output of the model, and store them in some datastore. Future interaction will then load \n",
    "# those messages and pass them into the chain as part of the input."
   ]
  },
  {
   "cell_type": "code",
   "execution_count": 9,
   "metadata": {},
   "outputs": [],
   "source": [
    "from langchain_community.chat_message_histories import ChatMessageHistory\n",
    "from langchain_core.chat_history import BaseChatMessageHistory\n",
    "from langchain_core.runnables.history import RunnableWithMessageHistory\n"
   ]
  },
  {
   "cell_type": "code",
   "execution_count": 13,
   "metadata": {},
   "outputs": [],
   "source": [
    "\n",
    "# To separate out one use chat from other user's chat we will use following technique\n",
    "\n",
    "# Session will create unique chat_id for single user's chathistory\n",
    "\n",
    "store = {}\n",
    "def get_session_history(session_id:str)-> BaseChatMessageHistory:\n",
    "    #Checking if the session id is present or not \n",
    "    if session_id not in store:\n",
    "        # If a session_id is present it will return it entire chat (suppose after login)\n",
    "        store[session_id] = ChatMessageHistory()\n",
    "    return store[session_id]\n",
    "\n",
    "\n",
    "with_message_history = RunnableWithMessageHistory(model, get_session_history)"
   ]
  },
  {
   "cell_type": "code",
   "execution_count": 14,
   "metadata": {},
   "outputs": [],
   "source": [
    "# \n",
    "config = { \"configurable\": {\"session_id\" : \"chat1\"}}"
   ]
  },
  {
   "cell_type": "code",
   "execution_count": 16,
   "metadata": {},
   "outputs": [],
   "source": [
    "# Passing the session_id or chat history id\n",
    "response = with_message_history.invoke(\n",
    "    [\n",
    "        HumanMessage(content=\"Hi, my name is akash and I'm a data scientist\")\n",
    "    ], config=config\n",
    ")"
   ]
  },
  {
   "cell_type": "code",
   "execution_count": 17,
   "metadata": {},
   "outputs": [
    {
     "data": {
      "text/plain": [
       "\"Hi Akash! \\n\\nIt's nice to meet you.  \\n\\nWhat kind of data science work do you do?  I'm always interested in learning more about how people use data to solve problems and make discoveries.\\n\""
      ]
     },
     "execution_count": 17,
     "metadata": {},
     "output_type": "execute_result"
    }
   ],
   "source": [
    "response.content"
   ]
  },
  {
   "cell_type": "code",
   "execution_count": 18,
   "metadata": {},
   "outputs": [
    {
     "data": {
      "text/plain": [
       "AIMessage(content='Your name is Akash.  😊 \\n\\nI remember! \\n\\n\\n\\n', response_metadata={'token_usage': {'completion_tokens': 18, 'prompt_tokens': 158, 'total_tokens': 176, 'completion_time': 0.032727273, 'prompt_time': 0.00549474, 'queue_time': 0.008596050000000001, 'total_time': 0.038222013}, 'model_name': 'Gemma2-9b-It', 'system_fingerprint': 'fp_10c08bf97d', 'finish_reason': 'stop', 'logprobs': None}, id='run-bd4899f7-a405-46bc-bf2d-3f7ebf0744d1-0', usage_metadata={'input_tokens': 158, 'output_tokens': 18, 'total_tokens': 176})"
      ]
     },
     "execution_count": 18,
     "metadata": {},
     "output_type": "execute_result"
    }
   ],
   "source": [
    "with_message_history.invoke(\n",
    "    [\n",
    "        HumanMessage(content=\"What is my name?\")\n",
    "    ], config=config\n",
    ")"
   ]
  },
  {
   "cell_type": "code",
   "execution_count": 21,
   "metadata": {},
   "outputs": [
    {
     "data": {
      "text/plain": [
       "\"Your name is Akash. \\n\\nI understand you might be curious about your name, but I've already told you! 😊 \\n\\nIs there anything else I can help you with?\\n\""
      ]
     },
     "execution_count": 21,
     "metadata": {},
     "output_type": "execute_result"
    }
   ],
   "source": [
    "## Change the config --> session id\n",
    "## This time we are providing the new configue to check whether is remember the old history on not based on the chat id\n",
    "## If we will put any other session_id then it will not remember the chat history\n",
    "# 3\n",
    "config1 = { \"configurable\": {\"session_id\" : \"chat1\"}}\n",
    "response = with_message_history.invoke(\n",
    "    [HumanMessage(content=\"What my name?\")], config=config1\n",
    ")\n",
    "\n",
    "response.content "
   ]
  },
  {
   "cell_type": "code",
   "execution_count": null,
   "metadata": {},
   "outputs": [],
   "source": [
    "# Prompt Template \n",
    "\n",
    "# Prompt templates help to turn raw user information into a format that the LLM can work with. In this \n",
    "# case, the raw user input is just a message, which we are passing to the LLM. "
   ]
  },
  {
   "cell_type": "code",
   "execution_count": 26,
   "metadata": {},
   "outputs": [],
   "source": [
    "from langchain_core.prompts import ChatPromptTemplate, MessagesPlaceholder\n",
    "\n",
    "prompt = ChatPromptTemplate.from_messages(\n",
    "    [\n",
    "        (\"system\",\"you are helpful assistant. Answer all the question to the best of your abaility\"),\n",
    "        MessagesPlaceholder(variable_name=\"messages\")\n",
    "    ]\n",
    ")\n",
    "\n",
    "chain = prompt|model"
   ]
  },
  {
   "cell_type": "code",
   "execution_count": 27,
   "metadata": {},
   "outputs": [
    {
     "data": {
      "text/plain": [
       "AIMessage(content=\"Hi Akash Patel, it's nice to meet you!  \\n\\nHow can I help you today? 😊 \\n\\n\", response_metadata={'token_usage': {'completion_tokens': 28, 'prompt_tokens': 32, 'total_tokens': 60, 'completion_time': 0.050909091, 'prompt_time': 0.000318699, 'queue_time': 0.013297798999999999, 'total_time': 0.05122779}, 'model_name': 'Gemma2-9b-It', 'system_fingerprint': 'fp_10c08bf97d', 'finish_reason': 'stop', 'logprobs': None}, id='run-a6690659-b9c4-4b6c-aa8d-fbc649acd032-0', usage_metadata={'input_tokens': 32, 'output_tokens': 28, 'total_tokens': 60})"
      ]
     },
     "execution_count": 27,
     "metadata": {},
     "output_type": "execute_result"
    }
   ],
   "source": [
    "chain.invoke({\"messages\":[HumanMessage(content=\"Hi My name is Akash Patel\")]})"
   ]
  },
  {
   "cell_type": "code",
   "execution_count": 28,
   "metadata": {},
   "outputs": [],
   "source": [
    "with_message_history = RunnableWithMessageHistory(chain, get_session_history)"
   ]
  },
  {
   "cell_type": "code",
   "execution_count": 29,
   "metadata": {},
   "outputs": [
    {
     "data": {
      "text/plain": [
       "\"Your name is Akash. \\n\\nI understand you might be curious about your name, but I've already told you! 😊 \\n\\nIs there anything else I can help you with?\\n\""
      ]
     },
     "execution_count": 29,
     "metadata": {},
     "output_type": "execute_result"
    }
   ],
   "source": [
    "config = {\"configurable\":{\"session_id\": \"chat3\"}}\n",
    "with_message_history.invoke(\n",
    "    [HumanMessage(content=\"Hi My name is Akash Patel\")],config=config\n",
    ")\n",
    "\n",
    "response.content"
   ]
  },
  {
   "cell_type": "code",
   "execution_count": 31,
   "metadata": {},
   "outputs": [],
   "source": [
    "## Adding more complexity\n",
    "\n",
    "prompt = ChatPromptTemplate.from_messages(\n",
    "    [\n",
    "        (\"system\",\n",
    "        \"you are a helpful assistant. Answer all the question in {language} language.\",\n",
    "        ), MessagesPlaceholder(variable_name=\"messages\"), \n",
    "    ]\n",
    ")\n",
    "\n",
    "chain = prompt | model"
   ]
  },
  {
   "cell_type": "code",
   "execution_count": 32,
   "metadata": {},
   "outputs": [
    {
     "data": {
      "text/plain": [
       "'नमस्ते अकाश! 🙂  मुझे आपकी मदद करने में खुशी होगी। आपका कोई सवाल है? \\n'"
      ]
     },
     "execution_count": 32,
     "metadata": {},
     "output_type": "execute_result"
    }
   ],
   "source": [
    "response = chain.invoke({\"messages\": [HumanMessage(content=\"Hi My name is Akash\")], \"language\":\"Hindi\"})\n",
    "response.content"
   ]
  },
  {
   "cell_type": "code",
   "execution_count": 33,
   "metadata": {},
   "outputs": [],
   "source": [
    "# Now wrap this more complicated chain in message history class. This time, because there are\n",
    "# multiple keys in the input, we need to specify the correct key to use to save the chat history"
   ]
  },
  {
   "cell_type": "code",
   "execution_count": 34,
   "metadata": {},
   "outputs": [],
   "source": [
    "with_message_history = RunnableWithMessageHistory(\n",
    "    chain, \n",
    "    get_session_history,\n",
    "    input_messages_key=\"messages\"\n",
    ")"
   ]
  },
  {
   "cell_type": "code",
   "execution_count": 40,
   "metadata": {},
   "outputs": [
    {
     "data": {
      "text/plain": [
       "'नमस्ते अकाश पटेल! आपका स्वागत है।  \\n\\nक्या मैं आपके लिए कुछ कर सकता हूँ? 😊\\n'"
      ]
     },
     "execution_count": 40,
     "metadata": {},
     "output_type": "execute_result"
    }
   ],
   "source": [
    "config5 = { \"configurable\": {\"session_id\" : \"chat5\"}}\n",
    "response = with_message_history.invoke(\n",
    "    {'messages' : [HumanMessage(content=\"Hi, I am Akash Patel\")], \"language\":\"Hindi\"},\n",
    "    config=config5\n",
    ")\n",
    "response.content"
   ]
  },
  {
   "cell_type": "code",
   "execution_count": null,
   "metadata": {},
   "outputs": [],
   "source": [
    "## Managing the conversion history\n",
    "\n",
    "# One import concept to understand when building chatbots is how to manager conversation\n",
    "# history. If left unmanaged, the list of messages will grow unbounded and potentially overflow the context window of the LLM.\n",
    "# Therefore, it is important to add a step that limits the size of the messages you are passing in.\n",
    "\n",
    "# trim_messages: this helper to reduce how many messages we're sending to the model. The trimmer allows\n",
    "# us to specify how many tokens we want to keep, along with other parameter like if we want to always keep the system\n",
    "# message and whether to allow partial messages"
   ]
  },
  {
   "cell_type": "code",
   "execution_count": 43,
   "metadata": {},
   "outputs": [],
   "source": [
    "from langchain_core.messages import SystemMessage, trim_messages\n"
   ]
  },
  {
   "cell_type": "code",
   "execution_count": 46,
   "metadata": {},
   "outputs": [],
   "source": [
    "trimmer = trim_messages(\n",
    "    max_tokens = 45,\n",
    "    # last means focus on the last conversion and from their itself it will count tokens\n",
    "    strategy = \"last\",\n",
    "    token_counter = model,\n",
    "    include_system = True,\n",
    "    allow_partial = False,\n",
    "    start_on = \"human\"\n",
    ")\n"
   ]
  },
  {
   "cell_type": "code",
   "execution_count": 47,
   "metadata": {},
   "outputs": [
    {
     "data": {
      "text/plain": [
       "[SystemMessage(content=\"you're a good assistant\"),\n",
       " HumanMessage(content='I like vanilla ice cream'),\n",
       " AIMessage(content='nice'),\n",
       " HumanMessage(content='whats 2 + 2'),\n",
       " AIMessage(content='4'),\n",
       " HumanMessage(content='thanks'),\n",
       " AIMessage(content='no problem!'),\n",
       " HumanMessage(content='having fun?'),\n",
       " AIMessage(content='yes!')]"
      ]
     },
     "execution_count": 47,
     "metadata": {},
     "output_type": "execute_result"
    }
   ],
   "source": [
    "# We can play with the token number to get the number of messages\n",
    "\n",
    "messages = [\n",
    "       SystemMessage(content=\"you're a good assistant\"),\n",
    "       HumanMessage(content=\"hi, I'm bob \"),\n",
    "       AIMessage(content='hi!'),\n",
    "       HumanMessage(content='I like vanilla ice cream'),\n",
    "       AIMessage(content='nice'),\n",
    "       HumanMessage(content='whats 2 + 2'),\n",
    "       AIMessage(content='4'),\n",
    "       HumanMessage(content='thanks'),\n",
    "       AIMessage(content='no problem!'),\n",
    "       HumanMessage(content='having fun?'),\n",
    "       AIMessage(content='yes!')\n",
    "      ]\n",
    "\n",
    "trimmer.invoke(messages)"
   ]
  },
  {
   "cell_type": "code",
   "execution_count": 51,
   "metadata": {},
   "outputs": [
    {
     "data": {
      "text/plain": [
       "\"As a large language model, I don't have access to your personal information, including your favorite ice cream flavor. \\n\\nWhat's your favorite flavor? 😊🍦\\n\""
      ]
     },
     "execution_count": 51,
     "metadata": {},
     "output_type": "execute_result"
    }
   ],
   "source": [
    "# how to pass the messages in the chain\n",
    "\n",
    "from operator import itemgetter\n",
    "from langchain_core.runnables import RunnablePassthrough\n",
    "\n",
    "chain = (\n",
    "    RunnablePassthrough.assign(messages = itemgetter('messages')| trimmer)\n",
    "    | prompt\n",
    "    | model\n",
    ")\n",
    "\n",
    "response = chain.invoke(\n",
    "    {\n",
    "    \"messages\":messages + [HumanMessage(content=\"what icecream do I like\")],\n",
    "    \"language\": \"English\"\n",
    "    }\n",
    ")\n",
    "response.content"
   ]
  },
  {
   "cell_type": "code",
   "execution_count": 52,
   "metadata": {},
   "outputs": [
    {
     "data": {
      "text/plain": [
       "'You asked what 2 + 2 equals.  😊  \\n\\n\\n\\nLet me know if you have any other questions!\\n'"
      ]
     },
     "execution_count": 52,
     "metadata": {},
     "output_type": "execute_result"
    }
   ],
   "source": [
    "response = chain.invoke(\n",
    "    {\n",
    "    \"messages\":messages + [HumanMessage(content=\"what math problem did I asked for\")],\n",
    "    \"language\": \"English\"\n",
    "    }\n",
    ")\n",
    "response.content"
   ]
  },
  {
   "cell_type": "code",
   "execution_count": 54,
   "metadata": {},
   "outputs": [],
   "source": [
    "with_message_history = RunnableWithMessageHistory(\n",
    "    chain,\n",
    "    get_session_history,\n",
    "    input_messages_key = \"messages\",\n",
    ")\n",
    "\n",
    "config = {\"configurable\": {\"session_id\" :\"chat6\" }}"
   ]
  },
  {
   "cell_type": "code",
   "execution_count": 58,
   "metadata": {},
   "outputs": [
    {
     "data": {
      "text/plain": [
       "'You asked: \"What is 2 + 2?\" \\n\\n\\nLet me know if you\\'d like to try another one! 😊  \\n'"
      ]
     },
     "execution_count": 58,
     "metadata": {},
     "output_type": "execute_result"
    }
   ],
   "source": [
    "response = chain.invoke(\n",
    "    {\n",
    "    \"messages\":messages + [HumanMessage(content=\"What is my  math problem did I asked?\")],\n",
    "    \"language\": \"English\"\n",
    "    },\n",
    "    config=config,\n",
    ")\n",
    "response.content"
   ]
  },
  {
   "cell_type": "code",
   "execution_count": null,
   "metadata": {},
   "outputs": [],
   "source": []
  }
 ],
 "metadata": {
  "kernelspec": {
   "display_name": "venv_lang",
   "language": "python",
   "name": "python3"
  },
  "language_info": {
   "codemirror_mode": {
    "name": "ipython",
    "version": 3
   },
   "file_extension": ".py",
   "mimetype": "text/x-python",
   "name": "python",
   "nbconvert_exporter": "python",
   "pygments_lexer": "ipython3",
   "version": "3.10.0"
  }
 },
 "nbformat": 4,
 "nbformat_minor": 2
}
