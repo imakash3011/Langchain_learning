{
 "cells": [
  {
   "cell_type": "code",
   "execution_count": null,
   "metadata": {},
   "outputs": [],
   "source": [
    "# How to split by HTML header\n",
    "\n",
    "# HTMLHeaderTextSplitter is  \"structure-aware\" chunker that splits text at the HTML element level and adds metadata for each header \"relevant\" to any given chunk."
   ]
  },
  {
   "cell_type": "code",
   "execution_count": 1,
   "metadata": {},
   "outputs": [],
   "source": [
    "from langchain_text_splitters import HTMLHeaderTextSplitter"
   ]
  },
  {
   "cell_type": "code",
   "execution_count": 2,
   "metadata": {},
   "outputs": [],
   "source": [
    "html_string = '''<h1>HTML Ipsum Presents</h1>\n",
    "\n",
    "\t\t\t\t<p><strong>Pellentesque habitant morbi tristique</strong> senectus et netus et malesuada fames ac turpis egestas. Vestibulum tortor quam, feugiat vitae, ultricies eget, tempor sit amet, ante. Donec eu libero sit amet quam egestas semper. <em>Aenean ultricies mi vitae est.</em> Mauris placerat eleifend leo. Quisque sit amet est et sapien ullamcorper pharetra. Vestibulum erat wisi, condimentum sed, <code>commodo vitae</code>, ornare sit amet, wisi. Aenean fermentum, elit eget tincidunt condimentum, eros ipsum rutrum orci, sagittis tempus lacus enim ac dui. <a href=\"#\">Donec non enim</a> in turpis pulvinar facilisis. Ut felis.</p>\n",
    "\n",
    "\t\t\t\t<h2>Header Level 2</h2>\n",
    "\n",
    "\t\t\t\t<ol>\n",
    "\t\t\t\t   <li>Lorem ipsum dolor sit amet, consectetuer adipiscing elit.</li>\n",
    "\t\t\t\t   <li>Aliquam tincidunt mauris eu risus.</li>\n",
    "\t\t\t\t</ol>\n",
    "\n",
    "\t\t\t\t<blockquote><p>Lorem ipsum dolor sit amet, consectetur adipiscing elit. Vivamus magna. Cras in mi at felis aliquet congue. Ut a est eget ligula molestie gravida. Curabitur massa. Donec eleifend, libero at sagittis mollis, tellus est malesuada tellus, at luctus turpis elit sit amet quam. Vivamus pretium ornare est.</p></blockquote>\n",
    "\n",
    "\t\t\t\t<h3>Header Level 3</h3>\n",
    "\n",
    "\t\t\t\t<ul>\n",
    "\t\t\t\t   <li>Lorem ipsum dolor sit amet, consectetuer adipiscing elit.</li>\n",
    "\t\t\t\t   <li>Aliquam tincidunt mauris eu risus.</li>\n",
    "\t\t\t\t</ul>\n",
    "\n",
    "\t\t\t\t<pre><code>\n",
    "\t\t\t\t#header h1 a {\n",
    "\t\t\t\t  display: block;\n",
    "\t\t\t\t  width: 300px;\n",
    "\t\t\t\t  height: 80px;\n",
    "\t\t\t\t}\n",
    "\t\t\t\t</code></pre>'''"
   ]
  },
  {
   "cell_type": "code",
   "execution_count": 3,
   "metadata": {},
   "outputs": [],
   "source": [
    "headers_to_split_on = [(\"h1\", \"Header 1\"),\n",
    "                       (\"h2\", \"Header 2\"),\n",
    "                       (\"h3\", \"Header 3\")]"
   ]
  },
  {
   "cell_type": "code",
   "execution_count": 4,
   "metadata": {},
   "outputs": [],
   "source": [
    "html_splitter = HTMLHeaderTextSplitter(headers_to_split_on = headers_to_split_on)"
   ]
  },
  {
   "cell_type": "code",
   "execution_count": 11,
   "metadata": {},
   "outputs": [],
   "source": [
    "html_header_split= html_splitter.split_text(html_string)"
   ]
  },
  {
   "cell_type": "code",
   "execution_count": 12,
   "metadata": {},
   "outputs": [
    {
     "data": {
      "text/plain": [
       "[Document(metadata={'Header 1': 'HTML Ipsum Presents'}, page_content='Pellentesque habitant morbi tristique senectus et netus et malesuada fames ac turpis egestas. Vestibulum tortor quam, feugiat vitae, ultricies eget, tempor sit amet, ante. Donec eu libero sit amet quam egestas semper. Aenean ultricies mi vitae est. Mauris placerat eleifend leo. Quisque sit amet est et sapien ullamcorper pharetra. Vestibulum erat wisi, condimentum sed, commodo vitae, ornare sit amet, wisi. Aenean fermentum, elit eget tincidunt condimentum, eros ipsum rutrum orci, sagittis tempus lacus enim ac dui. Donec non enim in turpis pulvinar facilisis. Ut felis.'),\n",
       " Document(metadata={'Header 1': 'HTML Ipsum Presents', 'Header 2': 'Header Level 2'}, page_content='Lorem ipsum dolor sit amet, consectetuer adipiscing elit. Aliquam tincidunt mauris eu risus.  \\nLorem ipsum dolor sit amet, consectetur adipiscing elit. Vivamus magna. Cras in mi at felis aliquet congue. Ut a est eget ligula molestie gravida. Curabitur massa. Donec eleifend, libero at sagittis mollis, tellus est malesuada tellus, at luctus turpis elit sit amet quam. Vivamus pretium ornare est.'),\n",
       " Document(metadata={'Header 1': 'HTML Ipsum Presents', 'Header 2': 'Header Level 2', 'Header 3': 'Header Level 3'}, page_content='Lorem ipsum dolor sit amet, consectetuer adipiscing elit. Aliquam tincidunt mauris eu risus.')]"
      ]
     },
     "execution_count": 12,
     "metadata": {},
     "output_type": "execute_result"
    }
   ],
   "source": [
    "html_header_split"
   ]
  },
  {
   "cell_type": "code",
   "execution_count": 13,
   "metadata": {},
   "outputs": [],
   "source": [
    "url = \"https://plato.stanford.edu/entries/goedel/\"\n",
    "headers_to_split_on = [(\"h1\", \"Header 1\"),\n",
    "                       (\"h2\", \"Header 2\"),\n",
    "                       (\"h3\", \"Header 3\")]\n",
    "\n",
    "html_splitter = HTMLHeaderTextSplitter(headers_to_split_on)"
   ]
  },
  {
   "cell_type": "code",
   "execution_count": 14,
   "metadata": {},
   "outputs": [],
   "source": [
    "html_header_splits = html_splitter.split_text_from_url(url)"
   ]
  },
  {
   "cell_type": "code",
   "execution_count": 17,
   "metadata": {},
   "outputs": [
    {
     "data": {
      "text/plain": [
       "Document(page_content=\"Stanford Encyclopedia of Philosophy  \\nMenu  \\nBrowse About Support SEP  \\nTable of Contents What's New Random Entry Chronological Archives  \\nEditorial Information About the SEP Editorial Board How to Cite the SEP Special Characters Advanced Tools Contact  \\nSupport the SEP PDFs for SEP Friends Make a Donation SEPIA for Libraries  \\nEntry Navigation  \\nEntry Contents Bibliography Academic Tools Friends PDF Preview Author and Citation Info Back to Top  \\nKurt Gödel\")"
      ]
     },
     "execution_count": 17,
     "metadata": {},
     "output_type": "execute_result"
    }
   ],
   "source": [
    "html_header_splits[0]"
   ]
  },
  {
   "cell_type": "code",
   "execution_count": null,
   "metadata": {},
   "outputs": [],
   "source": []
  }
 ],
 "metadata": {
  "kernelspec": {
   "display_name": "Python 3",
   "language": "python",
   "name": "python3"
  },
  "language_info": {
   "codemirror_mode": {
    "name": "ipython",
    "version": 3
   },
   "file_extension": ".py",
   "mimetype": "text/x-python",
   "name": "python",
   "nbconvert_exporter": "python",
   "pygments_lexer": "ipython3",
   "version": "3.10.0"
  }
 },
 "nbformat": 4,
 "nbformat_minor": 2
}
